{
 "cells": [
  {
   "cell_type": "code",
   "execution_count": 30,
   "metadata": {},
   "outputs": [
    {
     "name": "stdout",
     "output_type": "stream",
     "text": [
      "numpy: 1.12.1\n",
      "pandas: 0.20.1\n",
      "sklearn: 0.18.1\n",
      "seaborn: 0.7.1\n",
      "python: 3.6.1 |Anaconda 4.4.0 (64-bit)| (default, May 11 2017, 13:25:24) [MSC v.1900 64 bit (AMD64)]\n"
     ]
    }
   ],
   "source": [
    "import numpy\n",
    "print('numpy: %s' % numpy.__version__)\n",
    "import pandas\n",
    "print('pandas: %s' % pandas.__version__)\n",
    "import sklearn\n",
    "print('sklearn: %s' % sklearn.__version__)\n",
    "import seaborn\n",
    "print('seaborn: %s' % seaborn.__version__)\n",
    "import sys\n",
    "print('python: %s' % sys.version) "
   ]
  },
  {
   "cell_type": "code",
   "execution_count": 31,
   "metadata": {},
   "outputs": [
    {
     "name": "stdout",
     "output_type": "stream",
     "text": [
      "     0    1   2   3   4   5   6   7   8  9    10   11   12   13   14   15  \\\n",
      "82    5   82   4   4   0   1   1   1   0  2  NaN  NaN  1.0  NaN  NaN  NaN   \n",
      "144  11  144   2   3   0   0   0   0   0  1    3  4.0  2.0  NaN  NaN    5   \n",
      "32    3   32   2   3   0   0   0   0   0  3  NaN  5.0  2.0  NaN    4  NaN   \n",
      "103   6  103   3   3   0   0   0   0   0  1    2  NaN  5.0  NaN  NaN    3   \n",
      "2     0    2   4   5   1   1   1   1   0  2  NaN  NaN  NaN  NaN  NaN    1   \n",
      "141  11  141   1   3   0   0   0   0   0  1    3  4.0  2.0  NaN  NaN    5   \n",
      "133  10  133   2   3   0   0   0   1   0  1    5  NaN  2.0  4.0  NaN  NaN   \n",
      "63    4   63   3   4   1   0   1   1   0  1    2  NaN  3.0  NaN  NaN    4   \n",
      "23    1   23   3   5   0   1   1   1   0  4  NaN  1.0  NaN  NaN  NaN    5   \n",
      "17    1   17   2   3   0   0   1   1   0  1  NaN  2.0  3.0  NaN  NaN  NaN   \n",
      "\n",
      "      16   17   18   19   20   21  \n",
      "82   5.0  3.0  NaN  NaN  NaN  4.0  \n",
      "144  NaN  NaN  NaN  NaN  NaN  NaN  \n",
      "32   NaN  NaN  NaN  1.0  NaN  NaN  \n",
      "103  NaN  4.0  NaN  NaN  NaN  NaN  \n",
      "2    NaN  NaN    3  4.0  5.0  NaN  \n",
      "141  NaN  NaN  NaN  NaN  NaN  NaN  \n",
      "133  3.0  NaN  NaN  NaN  NaN  NaN  \n",
      "63   NaN  NaN    5  NaN  NaN  NaN  \n",
      "23   NaN  2.0    3  NaN  NaN  NaN  \n",
      "17   NaN  4.0    5  NaN  NaN  NaN  \n"
     ]
    }
   ],
   "source": [
    "df = pandas.read_csv('OriginalDatasetDS.csv', sep=',', header=None, \n",
    "                     error_bad_lines=False, warn_bad_lines=True, \n",
    "                     low_memory=False)\n",
    "pandas.options.display.max_columns = 22\n",
    "print(df.sample(n=10))"
   ]
  },
  {
   "cell_type": "code",
   "execution_count": 38,
   "metadata": {},
   "outputs": [
    {
     "name": "stdout",
     "output_type": "stream",
     "text": [
      "Example values:\n",
      "\n",
      "Account Manager Identification Number                  1\n",
      "Customer Identification Number                        20\n",
      "Innovative                                             2\n",
      "Relationship Rating                                    3\n",
      "Visited Tech Center                                    0\n",
      "ALPHA                                                  0\n",
      "BETA                                                   0\n",
      "PILOT                                                  0\n",
      "have they done pilot with us                           0\n",
      "Improve occupancy via differentiation/positioning      3\n",
      "Increase rate/bed through add-on services            NaN\n",
      "Increase 5-star rating                                 2\n",
      "Staff efficiency / lower cost of delivering care       1\n",
      "Insurance costs                                      NaN\n",
      "Utilities costs                                      NaN\n",
      "Health & Wellness Clinical Rehab                       4\n",
      "Resident monitoring and saftey                       NaN\n",
      "Rehospitalization/ACo partnerships                     5\n",
      "Care coordination across settings                    NaN\n",
      "Food & Nutirition                                    NaN\n",
      "Telehealth and remote care delivery                  NaN\n",
      "Rural health and wellness                            NaN\n",
      "Name: 20, dtype: object\n"
     ]
    }
   ],
   "source": [
    "df.columns = ['Account Manager Identification Number','Customer Identification Number',\n",
    " 'Innovative','Relationship Rating',\n",
    " 'Visited Tech Center','ALPHA','BETA','PILOT','have they done pilot with us',\n",
    " 'Improve occupancy via differentiation/positioning',\n",
    " 'Increase rate/bed through add-on services','Increase 5-star rating',\n",
    " 'Staff efficiency / lower cost of delivering care','Insurance costs',\n",
    " 'Utilities costs','Health & Wellness Clinical Rehab',\n",
    " 'Resident monitoring and saftey','Rehospitalization/ACo partnerships',\n",
    " 'Care coordination across settings','Food & Nutirition', \n",
    " 'Telehealth and remote care delivery', 'Rural health and wellness'] \n",
    "print(\"Example values:\\n\")\n",
    "print(df.iloc[20]);"
   ]
  },
  {
   "cell_type": "code",
   "execution_count": 39,
   "metadata": {},
   "outputs": [
    {
     "name": "stdout",
     "output_type": "stream",
     "text": [
      "\n",
      "\n",
      "Innovative Rankings, number of customers\n",
      "\n",
      "1    44\n",
      "3    39\n",
      "2    34\n",
      "4    29\n",
      "5    14\n",
      "Name: Innovative, dtype: int64\n"
     ]
    },
    {
     "data": {
      "text/plain": [
       "<matplotlib.axes._subplots.AxesSubplot at 0x2be86cc48d0>"
      ]
     },
     "execution_count": 39,
     "metadata": {},
     "output_type": "execute_result"
    },
    {
     "data": {
      "image/png": "[encoded data removed]",
      "text/plain": [
       "<matplotlib.figure.Figure at 0x2be86e56f28>"
      ]
     },
     "metadata": {},
     "output_type": "display_data"
    }
   ],
   "source": [
    "%matplotlib inline\n",
    "print(\"\\n\\nInnovative Rankings, number of customers\\n\")\n",
    "#using pandas\n",
    "print(df['Innovative'].value_counts())\n",
    "df['Innovative'].value_counts().plot(kind='bar')"
   ]
  },
  {
   "cell_type": "code",
   "execution_count": 40,
   "metadata": {},
   "outputs": [
    {
     "name": "stdout",
     "output_type": "stream",
     "text": [
      "3    46\n",
      "4    42\n",
      "5    34\n",
      "1    25\n",
      "2    13\n",
      "Name: Relationship Rating, dtype: int64\n"
     ]
    },
    {
     "data": {
      "text/plain": [
       "<matplotlib.axes._subplots.AxesSubplot at 0x2be868a44a8>"
      ]
     },
     "execution_count": 40,
     "metadata": {},
     "output_type": "execute_result"
    },
    {
     "data": {
      "image/png": "[encoded data removed]",
      "text/plain": [
       "<matplotlib.figure.Figure at 0x2be8683a668>"
      ]
     },
     "metadata": {},
     "output_type": "display_data"
    }
   ],
   "source": [
    "%matplotlib inline\n",
    "#using pandas\n",
    "print(df['Relationship Rating'].value_counts())\n",
    "df['Relationship Rating'].value_counts().plot(kind='bar')"
   ]
  },
  {
   "cell_type": "code",
   "execution_count": 41,
   "metadata": {
    "scrolled": true
   },
   "outputs": [
    {
     "data": {
      "image/png": "[encoded data removed]",
      "text/plain": [
       "<matplotlib.figure.Figure at 0x2be868f8240>"
      ]
     },
     "metadata": {},
     "output_type": "display_data"
    }
   ],
   "source": [
    "#comparison of Innovation scores and Relationship scores using seaborn factorplot\n",
    "df_forplot = df.loc[:,('Innovative','Relationship Rating','Visited Tech Center')]\n",
    "g = seaborn.factorplot(\"Innovative\", col=\"Relationship Rating\", data=df_forplot,\n",
    "                    kind=\"count\", size=2.5, aspect=.8, col_wrap=6)"
   ]
  },
  {
   "cell_type": "code",
   "execution_count": null,
   "metadata": {
    "collapsed": true
   },
   "outputs": [],
   "source": []
  }
 ],
 "metadata": {
  "kernelspec": {
   "display_name": "Python 3",
   "language": "python",
   "name": "python3"
  },
  "language_info": {
   "codemirror_mode": {
    "name": "ipython",
    "version": 3
   },
   "file_extension": ".py",
   "mimetype": "text/x-python",
   "name": "python",
   "nbconvert_exporter": "python",
   "pygments_lexer": "ipython3",
   "version": "3.6.1"
  }
 },
 "nbformat": 4,
 "nbformat_minor": 2
}
