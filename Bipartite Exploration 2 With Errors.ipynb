{
 "cells": [
  {
   "cell_type": "code",
   "execution_count": 46,
   "metadata": {},
   "outputs": [
    {
     "name": "stdout",
     "output_type": "stream",
     "text": [
      "networkx: 1.11\n",
      "pandas: 0.20.1\n"
     ]
    }
   ],
   "source": [
    "import networkx as nx\n",
    "from networkx.algorithms import bipartite \n",
    "print('networkx: %s' % nx.__version__)\n",
    "import pandas\n",
    "print('pandas: %s' % pandas.__version__)"
   ]
  },
  {
   "cell_type": "code",
   "execution_count": 47,
   "metadata": {},
   "outputs": [
    {
     "name": "stdout",
     "output_type": "stream",
     "text": [
      "     0    1   2   3   4   5   6   7   8  9  10 ...  12  13  14 15 16  17  18  \\\n",
      "52    3   52   1   3   0   2   2   0   0  4  0 ...   1   0   0  3  2   0   0   \n",
      "32    3   32   2   3   0   0   0   0   0  3  0 ...   2   0   4  0  0   0   0   \n",
      "1     0    1   4   5   0   0   1   1   0  5  0 ...   4   0   0  2  0   1   3   \n",
      "24    1   24   3   4   0   1   1   1   0  1  0 ...   4   0   0  5  0   3   0   \n",
      "111   8  111   3   4   0   0   1   1   0  5  0 ...   0   0   0  1  4   0   2   \n",
      "80    4   80   3   3   0   0   0   1   0  2  1 ...   3   0   0  5  4   0   0   \n",
      "20    1   20   2   3   0   0   0   0   0  3  0 ...   1   0   0  4  0   5   0   \n",
      "2     0    2   4   5   1   1   1   1   0  2  0 ...   0   0   0  1  0   0   3   \n",
      "29    2   29   2   4   0   0   0   1   2  1  3 ...   1   2   3  0  0   1   0   \n",
      "6     0    6   1   4   1   0   0   0   0  4  5 ...   1   0   0  0  0   0   0   \n",
      "\n",
      "    19  20  21  22  \n",
      "52   0   0   0   0  \n",
      "32   0   0   0   0  \n",
      "1    0   0   0   0  \n",
      "24   0   0   0   0  \n",
      "111  3   0   0   0  \n",
      "80   0   0   0   0  \n",
      "20   0   0   0   0  \n",
      "2    4   5   0   0  \n",
      "29   0   0   0   0  \n",
      "6    2   0   3   0  \n",
      "\n",
      "[10 rows x 23 columns]\n"
     ]
    }
   ],
   "source": [
    "df = pandas.read_csv('OriginalDatasetDS.csv', sep=',', header=None, error_bad_lines=False, \n",
    "                     warn_bad_lines=True, low_memory=False)\n",
    "pandas.options.display.max_columns = 22 \n",
    "print(df.sample(n=10))"
   ]
  },
  {
   "cell_type": "code",
   "execution_count": 76,
   "metadata": {},
   "outputs": [
    {
     "name": "stdout",
     "output_type": "stream",
     "text": [
      "Example values:\n",
      "\n",
      "Account Manager Identification Number                 1\n",
      "Customer Identification Number                       20\n",
      "Innovative                                            2\n",
      "Relationship Rating                                   3\n",
      "Visited Tech Center                                   0\n",
      "ALPHA                                                 0\n",
      "BETA                                                  0\n",
      "PILOT                                                 0\n",
      "have they done pilot with us                          0\n",
      "Improve occupancy via differentiation/positioning     3\n",
      "Increase rate/bed through add-on services             0\n",
      "Increase 5-star rating                                2\n",
      "Staff efficiency / lower cost of delivering care      1\n",
      "Insurance costs                                       0\n",
      "Utilities costs                                       0\n",
      "Health & Wellness Clinical Rehab                      4\n",
      "Resident monitoring and saftey                        0\n",
      "Rehospitalization/ACo partnerships                    5\n",
      "Care coordination across settings                     0\n",
      "Food & Nutirition                                     0\n",
      "Telehealth and remote care delivery                   0\n",
      "Rural health and wellness                             0\n",
      "Pilots in Progress                                    0\n",
      "Name: 20, dtype: object\n"
     ]
    },
    {
     "ename": "IndexError",
     "evalue": "only integers, slices (`:`), ellipsis (`...`), numpy.newaxis (`None`) and integer or boolean arrays are valid indices",
     "output_type": "error",
     "traceback": [
      "\u001b[1;31m---------------------------------------------------------------------------\u001b[0m",
      "\u001b[1;31mIndexError\u001b[0m                                Traceback (most recent call last)",
      "\u001b[1;32m<ipython-input-76-644785ce6215>\u001b[0m in \u001b[0;36m<module>\u001b[1;34m()\u001b[0m\n\u001b[0;32m     17\u001b[0m \u001b[1;31m#the row, not a column\u001b[0m\u001b[1;33m\u001b[0m\u001b[1;33m\u001b[0m\u001b[0m\n\u001b[0;32m     18\u001b[0m \u001b[1;33m\u001b[0m\u001b[0m\n\u001b[1;32m---> 19\u001b[1;33m \u001b[0mA\u001b[0m \u001b[1;33m=\u001b[0m \u001b[0mdf\u001b[0m\u001b[1;33m.\u001b[0m\u001b[0mcolumns\u001b[0m\u001b[1;33m[\u001b[0m\u001b[1;34m'Account Manager Identification Number'\u001b[0m\u001b[1;33m]\u001b[0m\u001b[1;33m\u001b[0m\u001b[0m\n\u001b[0m\u001b[0;32m     20\u001b[0m \u001b[0mC\u001b[0m \u001b[1;33m=\u001b[0m \u001b[0mdf\u001b[0m\u001b[1;33m.\u001b[0m\u001b[0mloc\u001b[0m\u001b[1;33m[\u001b[0m\u001b[1;36m101\u001b[0m\u001b[1;33m]\u001b[0m\u001b[1;33m\u001b[0m\u001b[0m\n\u001b[0;32m     21\u001b[0m \u001b[0mprint\u001b[0m\u001b[1;33m(\u001b[0m\u001b[0mdf\u001b[0m\u001b[1;33m.\u001b[0m\u001b[0mcolumn\u001b[0m\u001b[1;33m[\u001b[0m\u001b[1;34m'Account Manager Identification Number'\u001b[0m\u001b[1;33m]\u001b[0m\u001b[1;33m)\u001b[0m\u001b[1;33m\u001b[0m\u001b[0m\n",
      "\u001b[1;32mD:\\Anaconda\\lib\\site-packages\\pandas\\core\\indexes\\base.py\u001b[0m in \u001b[0;36m__getitem__\u001b[1;34m(self, key)\u001b[0m\n\u001b[0;32m   1637\u001b[0m \u001b[1;33m\u001b[0m\u001b[0m\n\u001b[0;32m   1638\u001b[0m         \u001b[1;32mif\u001b[0m \u001b[0mis_scalar\u001b[0m\u001b[1;33m(\u001b[0m\u001b[0mkey\u001b[0m\u001b[1;33m)\u001b[0m\u001b[1;33m:\u001b[0m\u001b[1;33m\u001b[0m\u001b[0m\n\u001b[1;32m-> 1639\u001b[1;33m             \u001b[1;32mreturn\u001b[0m \u001b[0mgetitem\u001b[0m\u001b[1;33m(\u001b[0m\u001b[0mkey\u001b[0m\u001b[1;33m)\u001b[0m\u001b[1;33m\u001b[0m\u001b[0m\n\u001b[0m\u001b[0;32m   1640\u001b[0m \u001b[1;33m\u001b[0m\u001b[0m\n\u001b[0;32m   1641\u001b[0m         \u001b[1;32mif\u001b[0m \u001b[0misinstance\u001b[0m\u001b[1;33m(\u001b[0m\u001b[0mkey\u001b[0m\u001b[1;33m,\u001b[0m \u001b[0mslice\u001b[0m\u001b[1;33m)\u001b[0m\u001b[1;33m:\u001b[0m\u001b[1;33m\u001b[0m\u001b[0m\n",
      "\u001b[1;31mIndexError\u001b[0m: only integers, slices (`:`), ellipsis (`...`), numpy.newaxis (`None`) and integer or boolean arrays are valid indices"
     ]
    }
   ],
   "source": [
    "#df stands for dataframe\n",
    "df.columns = ['Account Manager Identification Number','Customer Identification Number',\n",
    " 'Innovative','Relationship Rating',\n",
    " 'Visited Tech Center','ALPHA','BETA','PILOT','have they done pilot with us',\n",
    " 'Improve occupancy via differentiation/positioning',\n",
    " 'Increase rate/bed through add-on services','Increase 5-star rating',\n",
    " 'Staff efficiency / lower cost of delivering care','Insurance costs',\n",
    " 'Utilities costs','Health & Wellness Clinical Rehab',\n",
    " 'Resident monitoring and saftey','Rehospitalization/ACo partnerships',\n",
    " 'Care coordination across settings','Food & Nutirition', \n",
    " 'Telehealth and remote care delivery', 'Rural health and wellness', 'Pilots in Progress'] \n",
    "print(\"Example values:\\n\")\n",
    "print(df.iloc[20]);\n",
    "#A = df.column['Account Manager Identification Number']\n",
    "# df.ix stands for the index of the dataframe, so like df.ix[2] could be second column(????)\n",
    "#jk ix is archaic so you're supposed to use loc or iloc for location...but this is only for\n",
    "#the row, not a column\n",
    "\n",
    "A = df.columns['Account Manager Identification Number']\n",
    "C = df.loc[101]\n",
    "print(df.column['Account Manager Identification Number'])"
   ]
  },
  {
   "cell_type": "code",
   "execution_count": 49,
   "metadata": {},
   "outputs": [
    {
     "name": "stdout",
     "output_type": "stream",
     "text": [
      "\n",
      "\n",
      "Innovative Rankings, number of customers\n",
      "\n",
      "1    44\n",
      "3    39\n",
      "2    34\n",
      "4    29\n",
      "5    14\n",
      "Name: Innovative, dtype: int64\n"
     ]
    },
    {
     "data": {
      "text/plain": [
       "<matplotlib.axes._subplots.AxesSubplot at 0x1b02f2d27b8>"
      ]
     },
     "execution_count": 49,
     "metadata": {},
     "output_type": "execute_result"
    },
    {
     "data": {
      "image/png": "[encoded data removed]",
      "text/plain": [
       "<matplotlib.figure.Figure at 0x1b02f282400>"
      ]
     },
     "metadata": {},
     "output_type": "display_data"
    }
   ],
   "source": [
    "%matplotlib inline\n",
    "print(\"\\n\\nInnovative Rankings, number of customers\\n\")\n",
    "#using pandas\n",
    "print(df['Innovative'].value_counts())\n",
    "df['Innovative'].value_counts().plot(kind='bar')"
   ]
  },
  {
   "cell_type": "code",
   "execution_count": 51,
   "metadata": {
    "collapsed": true
   },
   "outputs": [],
   "source": [
    "B = nx.Graph()\n",
    "B.add_nodes_from(df['Innovative'], bipartite=0) \n",
    "#the graph() class represents a bipartite graph because networkx doesn't have it's own bipartite class"
   ]
  },
  {
   "cell_type": "code",
   "execution_count": 52,
   "metadata": {
    "collapsed": true
   },
   "outputs": [],
   "source": [
    "B.add_nodes_from(df['Relationship Rating'], bipartite=1)\n",
    "#B.add_edges_from([(1,'a'), (1,'b'),(2,'b'), (2,'c'), (3,'c'), (4,'a')])\n",
    "#algorithms of bipartite module require a container of nodes as an argument\n",
    "#bipartite graph is B\n",
    "#0 or 1 as the \"bipartite\" attribute of the node shows on which side of the graph that node belongs"
   ]
  },
  {
   "cell_type": "code",
   "execution_count": 67,
   "metadata": {},
   "outputs": [
    {
     "data": {
      "text/plain": [
       "False"
      ]
     },
     "execution_count": 67,
     "metadata": {},
     "output_type": "execute_result"
    }
   ],
   "source": [
    "nx.is_connected(B)"
   ]
  },
  {
   "cell_type": "code",
   "execution_count": 55,
   "metadata": {},
   "outputs": [
    {
     "data": {
      "text/plain": [
       "False"
      ]
     },
     "execution_count": 55,
     "metadata": {},
     "output_type": "execute_result"
    }
   ],
   "source": [
    "bottom_nodes, top_nodes = bipartite.sets(B)\n",
    "#B.remove_edge(2,'c')\n",
    "nx.is_connected(B)"
   ]
  },
  {
   "cell_type": "code",
   "execution_count": 56,
   "metadata": {
    "collapsed": true
   },
   "outputs": [],
   "source": [
    "bottom_nodes, top_nodes = bipartite.sets(B)"
   ]
  },
  {
   "cell_type": "code",
   "execution_count": 58,
   "metadata": {},
   "outputs": [],
   "source": [
    "#top_nodes = set(n for n,d in B.nodes(data=True) if d['bipartite'==0])\n",
    "#bottom_nodes = set(B) - top_nodes"
   ]
  },
  {
   "cell_type": "code",
   "execution_count": 59,
   "metadata": {},
   "outputs": [
    {
     "name": "stdout",
     "output_type": "stream",
     "text": [
      "0.0\n"
     ]
    },
    {
     "data": {
      "text/plain": [
       "[]"
      ]
     },
     "execution_count": 59,
     "metadata": {},
     "output_type": "execute_result"
    }
   ],
   "source": [
    "print(round(bipartite.density(B, bottom_nodes),2))\n",
    "G = bipartite.projected_graph(B, top_nodes)\n",
    "G.edges()"
   ]
  },
  {
   "cell_type": "code",
   "execution_count": 23,
   "metadata": {},
   "outputs": [],
   "source": [
    "#RB = bipartite.random_graph(5, 7, 0.2)\n",
    "#RB_top = set(n for n,d in RB.nodes(data=True) if d['bipartite'==0])\n",
    "#RB_bottom = set(RB) - RB_top\n",
    "#list(RB_top)\n",
    "#list(RB_bottom)"
   ]
  },
  {
   "cell_type": "code",
   "execution_count": 60,
   "metadata": {},
   "outputs": [
    {
     "data": {
      "text/plain": [
       "[0, 1]"
      ]
     },
     "execution_count": 60,
     "metadata": {},
     "output_type": "execute_result"
    }
   ],
   "source": [
    "#Section on Matching!!!!!! Could be run as a separate notebook\n",
    "#import networkx as nx\n",
    "G = nx.complete_bipartite_graph(2,3)\n",
    "left, right = nx.bipartite.sets(G)\n",
    "list(left)"
   ]
  },
  {
   "cell_type": "code",
   "execution_count": 61,
   "metadata": {},
   "outputs": [
    {
     "data": {
      "text/plain": [
       "[2, 3, 4]"
      ]
     },
     "execution_count": 61,
     "metadata": {},
     "output_type": "execute_result"
    }
   ],
   "source": [
    "list(right)"
   ]
  },
  {
   "cell_type": "code",
   "execution_count": 62,
   "metadata": {},
   "outputs": [
    {
     "data": {
      "text/plain": [
       "{0: 2, 1: 3, 2: 0, 3: 1}"
      ]
     },
     "execution_count": 62,
     "metadata": {},
     "output_type": "execute_result"
    }
   ],
   "source": [
    "nx.bipartite.maximum_matching(G)"
   ]
  },
  {
   "cell_type": "code",
   "execution_count": 38,
   "metadata": {},
   "outputs": [
    {
     "name": "stderr",
     "output_type": "stream",
     "text": [
      "D:\\Anaconda\\lib\\site-packages\\networkx\\drawing\\nx_pylab.py:126: MatplotlibDeprecationWarning: pyplot.hold is deprecated.\n",
      "    Future behavior will be consistent with the long-time default:\n",
      "    plot commands add elements without first clearing the\n",
      "    Axes and/or Figure.\n",
      "  b = plt.ishold()\n",
      "D:\\Anaconda\\lib\\site-packages\\networkx\\drawing\\nx_pylab.py:138: MatplotlibDeprecationWarning: pyplot.hold is deprecated.\n",
      "    Future behavior will be consistent with the long-time default:\n",
      "    plot commands add elements without first clearing the\n",
      "    Axes and/or Figure.\n",
      "  plt.hold(b)\n",
      "D:\\Anaconda\\lib\\site-packages\\matplotlib\\__init__.py:917: UserWarning: axes.hold is deprecated. Please remove it from your matplotlibrc and/or style files.\n",
      "  warnings.warn(self.msg_depr_set % key)\n",
      "D:\\Anaconda\\lib\\site-packages\\matplotlib\\rcsetup.py:152: UserWarning: axes.hold is deprecated, will be removed in 3.0\n",
      "  warnings.warn(\"axes.hold is deprecated, will be removed in 3.0\")\n"
     ]
    },
    {
     "data": {
      "image/png": "[encoded data removed]",
      "text/plain": [
       "<matplotlib.figure.Figure at 0x1b02cd58dd8>"
      ]
     },
     "metadata": {},
     "output_type": "display_data"
    }
   ],
   "source": [
    "#nx.bipartite.random_graph(5, 7, 0)\n",
    "nx.draw(B, with_labels = True)"
   ]
  },
  {
   "cell_type": "code",
   "execution_count": null,
   "metadata": {
    "collapsed": true
   },
   "outputs": [],
   "source": [
    "#clustering(G[, nodes, model]) \n",
    "        #Compute a bipartite clustering coefficient for nodes\n",
    "#average_clustering(G[, nodes, model]) \n",
    "        #Compute the average bipartite clustering coefficient\n",
    "#latapy_clustering(G[, nodes, model]) \n",
    "        #Compute a bipartite clustering coefficient for nodes\n",
    "#robins_alexander_clustering(G) \n",
    "        #Compute the bipartite clustering of G"
   ]
  },
  {
   "cell_type": "code",
   "execution_count": 65,
   "metadata": {},
   "outputs": [
    {
     "name": "stderr",
     "output_type": "stream",
     "text": [
      "D:\\Anaconda\\lib\\site-packages\\networkx\\drawing\\nx_pylab.py:126: MatplotlibDeprecationWarning: pyplot.hold is deprecated.\n",
      "    Future behavior will be consistent with the long-time default:\n",
      "    plot commands add elements without first clearing the\n",
      "    Axes and/or Figure.\n",
      "  b = plt.ishold()\n",
      "D:\\Anaconda\\lib\\site-packages\\networkx\\drawing\\nx_pylab.py:138: MatplotlibDeprecationWarning: pyplot.hold is deprecated.\n",
      "    Future behavior will be consistent with the long-time default:\n",
      "    plot commands add elements without first clearing the\n",
      "    Axes and/or Figure.\n",
      "  plt.hold(b)\n",
      "D:\\Anaconda\\lib\\site-packages\\matplotlib\\__init__.py:917: UserWarning: axes.hold is deprecated. Please remove it from your matplotlibrc and/or style files.\n",
      "  warnings.warn(self.msg_depr_set % key)\n",
      "D:\\Anaconda\\lib\\site-packages\\matplotlib\\rcsetup.py:152: UserWarning: axes.hold is deprecated, will be removed in 3.0\n",
      "  warnings.warn(\"axes.hold is deprecated, will be removed in 3.0\")\n"
     ]
    },
    {
     "data": {
      "image/png": "[encoded data removed]",
      "text/plain": [
       "<matplotlib.figure.Figure at 0x1b02f310128>"
      ]
     },
     "metadata": {},
     "output_type": "display_data"
    }
   ],
   "source": [
    "B.add_nodes_from(df['Innovative'], bipartite=1)\n",
    "B.add_nodes_from(df['ALPHA'], bipartite=0)\n",
    "nx.draw(B, with_labels = True) "
   ]
  },
  {
   "cell_type": "code",
   "execution_count": null,
   "metadata": {
    "collapsed": true
   },
   "outputs": [],
   "source": []
  },
  {
   "cell_type": "code",
   "execution_count": null,
   "metadata": {
    "collapsed": true
   },
   "outputs": [],
   "source": []
  }
 ],
 "metadata": {
  "kernelspec": {
   "display_name": "Python 3",
   "language": "python",
   "name": "python3"
  },
  "language_info": {
   "codemirror_mode": {
    "name": "ipython",
    "version": 3
   },
   "file_extension": ".py",
   "mimetype": "text/x-python",
   "name": "python",
   "nbconvert_exporter": "python",
   "pygments_lexer": "ipython3",
   "version": "3.6.1"
  }
 },
 "nbformat": 4,
 "nbformat_minor": 2
}
