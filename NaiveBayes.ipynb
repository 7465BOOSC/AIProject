{
 "cells": [
  {
   "cell_type": "code",
   "execution_count": 2,
   "metadata": {},
   "outputs": [
    {
     "name": "stdout",
     "output_type": "stream",
     "text": [
      "numpy: 1.12.1\n",
      "pandas: 0.20.1\n",
      "sklearn: 0.18.1\n",
      "seaborn: 0.7.1\n",
      "python: 3.6.1 |Anaconda 4.4.0 (64-bit)| (default, May 11 2017, 13:25:24) [MSC v.1900 64 bit (AMD64)]\n"
     ]
    }
   ],
   "source": [
    "import numpy\n",
    "print('numpy: %s' % numpy.__version__)\n",
    "import pandas\n",
    "print('pandas: %s' % pandas.__version__)\n",
    "import sklearn\n",
    "print('sklearn: %s' % sklearn.__version__)\n",
    "import seaborn\n",
    "print('seaborn: %s' % seaborn.__version__)\n",
    "import sys\n",
    "print('python: %s' % sys.version) "
   ]
  },
  {
   "cell_type": "code",
   "execution_count": 11,
   "metadata": {},
   "outputs": [
    {
     "name": "stdout",
     "output_type": "stream",
     "text": [
      "      0     1  2  3  4  5  6  7  8    9    10 ...    12   13   14   15   16  \\\n",
      "34   003  0033  1  1  0  0  0  0  0    4    5 ...     1    2    3  NaN  NaN   \n",
      "72   004  0071  2  3  0  0  0  0  0    3    2 ...     1  NaN  NaN  NaN    4   \n",
      "99   006  0098  3  3  0  0  0  1  0    1  NaN ...     4  NaN  NaN    3    5   \n",
      "58   003  0057  1  1  0  0  0  0  0  NaN  NaN ...     3    1    2  NaN  NaN   \n",
      "24   001  0023  3  5  0  1  1  1  0    4  NaN ...   NaN  NaN  NaN    5  NaN   \n",
      "90   006  0089  2  3  0  0  0  0  0    1  NaN ...     2  NaN  NaN    4    3   \n",
      "132  010  0131  5  4  0  1  1  1  1  NaN  NaN ...   NaN    3    1  NaN  NaN   \n",
      "89   006  0088  4  5  0  1  1  1  0    1  NaN ...   NaN  NaN  NaN    3    2   \n",
      "114  008  0113  4  5  0  1  1  1  0    5  NaN ...     4  NaN  NaN    2  NaN   \n",
      "127  010  0126  3  5  1  0  0  0  0    1    2 ...     3    4  NaN  NaN    5   \n",
      "\n",
      "      17   18   19   20   21   22  \n",
      "34   NaN  NaN  NaN  NaN  NaN  NaN  \n",
      "72   NaN    5  NaN  NaN  NaN  NaN  \n",
      "99   NaN  NaN    2  NaN  NaN  NaN  \n",
      "58   NaN  NaN    4  NaN  NaN  NaN  \n",
      "24     2    3  NaN  NaN  NaN  NaN  \n",
      "90   NaN  NaN    5  NaN  NaN  NaN  \n",
      "132  NaN    4  NaN    5    2  NaN  \n",
      "89   NaN    5    4  NaN  NaN  NaN  \n",
      "114    3    1  NaN  NaN  NaN  NaN  \n",
      "127  NaN  NaN  NaN  NaN  NaN  NaN  \n",
      "\n",
      "[10 rows x 23 columns]\n"
     ]
    }
   ],
   "source": [
    "df = pandas.read_csv('OriginalDatasetDS.csv', sep=',', header=None, \n",
    "                     error_bad_lines=False, warn_bad_lines=True, \n",
    "                     low_memory=False)\n",
    "pandas.options.display.max_columns = 22\n",
    "print(df.sample(n=10))"
   ]
  },
  {
   "cell_type": "code",
   "execution_count": 14,
   "metadata": {},
   "outputs": [
    {
     "name": "stdout",
     "output_type": "stream",
     "text": [
      "Example values:\n",
      "\n",
      "Account Manager Identification Number                 001\n",
      "Customer Identification Number                       0019\n",
      "Innovative                                              4\n",
      "Relationship Rating                                     4\n",
      "Visited Tech Center                                     1\n",
      "ALPHA                                                   1\n",
      "BETA                                                    1\n",
      "PILOT                                                   1\n",
      "have they done pilot with us                            0\n",
      "Improve occupancy via differentiation/positioning     NaN\n",
      "Increase rate/bed through add-on services               1\n",
      "Increase 5-star rating                                  2\n",
      "Staff efficiency / lower cost of delivering care      NaN\n",
      "Insurance costs                                       NaN\n",
      "Utilities costs                                       NaN\n",
      "Health & Wellness Clinical Rehab                        4\n",
      "Resident monitoring and saftey                        NaN\n",
      "Rehospitalization/ACo partnerships                    NaN\n",
      "Care coordination across settings                       5\n",
      "Food & Nutirition                                     NaN\n",
      "Telehealth and remote care delivery                     4\n",
      "Rural health and wellness                               3\n",
      "Number of pilots in progress                          NaN\n",
      "Name: 20, dtype: object\n"
     ]
    }
   ],
   "source": [
    "df.columns = ['Account Manager Identification Number','Customer Identification Number',\n",
    " 'Innovative','Relationship Rating',\n",
    " 'Visited Tech Center','ALPHA','BETA','PILOT','have they done pilot with us',\n",
    " 'Improve occupancy via differentiation/positioning',\n",
    " 'Increase rate/bed through add-on services','Increase 5-star rating',\n",
    " 'Staff efficiency / lower cost of delivering care','Insurance costs',\n",
    " 'Utilities costs','Health & Wellness Clinical Rehab',\n",
    " 'Resident monitoring and saftey','Rehospitalization/ACo partnerships',\n",
    " 'Care coordination across settings','Food & Nutirition', \n",
    " 'Telehealth and remote care delivery', 'Rural health and wellness', \n",
    " 'Number of pilots in progress'] \n",
    "print(\"Example values:\\n\")\n",
    "print(df.iloc[20]);"
   ]
  },
  {
   "cell_type": "code",
   "execution_count": null,
   "metadata": {
    "collapsed": true
   },
   "outputs": [],
   "source": []
  }
 ],
 "metadata": {
  "kernelspec": {
   "display_name": "Python 3",
   "language": "python",
   "name": "python3"
  },
  "language_info": {
   "codemirror_mode": {
    "name": "ipython",
    "version": 3
   },
   "file_extension": ".py",
   "mimetype": "text/x-python",
   "name": "python",
   "nbconvert_exporter": "python",
   "pygments_lexer": "ipython3",
   "version": "3.6.1"
  }
 },
 "nbformat": 4,
 "nbformat_minor": 2
}
